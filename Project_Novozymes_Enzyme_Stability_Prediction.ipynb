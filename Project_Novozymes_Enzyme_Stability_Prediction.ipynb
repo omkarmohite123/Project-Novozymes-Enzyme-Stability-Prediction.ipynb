{
  "cells": [
    {
      "cell_type": "markdown",
      "metadata": {
        "id": "view-in-github",
        "colab_type": "text"
      },
      "source": [
        "<a href=\"https://colab.research.google.com/github/omkarmohite123/Project-Novozymes-Enzyme-Stability-Prediction.ipynb/blob/main/Project_Novozymes_Enzyme_Stability_Prediction.ipynb\" target=\"_parent\"><img src=\"https://colab.research.google.com/assets/colab-badge.svg\" alt=\"Open In Colab\"/></a>"
      ]
    },
    {
      "cell_type": "code",
      "execution_count": null,
      "metadata": {
        "colab": {
          "background_save": true
        },
        "id": "X2tmy-_NCSQT"
      },
      "outputs": [],
      "source": [
        "import numpy as np\n",
        "import pandas as pd"
      ]
    },
    {
      "cell_type": "code",
      "execution_count": null,
      "metadata": {
        "colab": {
          "background_save": true
        },
        "id": "abHTkDHD-zks"
      },
      "outputs": [],
      "source": [
        "import seaborn\n",
        "import matplotlib.pyplot as plt\n",
        "import numpy as np\n",
        "plt.style.use('ggplot')"
      ]
    },
    {
      "cell_type": "code",
      "source": [
        "import numpy as np \n",
        "import pandas as pd\n",
        "from sklearn.metrics import accuracy_score\n",
        "\n",
        "# Scaler\n",
        "from sklearn.preprocessing import StandardScaler, LabelEncoder\n",
        "\n",
        "# Cross-Validation\n",
        "from sklearn.model_selection import StratifiedKFold\n",
        "\n",
        "# Hyperparametering\n",
        "from sklearn.model_selection import GridSearchCV, RandomizedSearchCV\n",
        "\n",
        "#  For Modelling\n",
        "from sklearn.model_selection import train_test_split\n",
        "import xgboost\n",
        "\n",
        "# Measurement\n",
        "from sklearn.metrics import mean_absolute_error"
      ],
      "metadata": {
        "id": "ojsWpP8HBMud"
      },
      "execution_count": null,
      "outputs": []
    },
    {
      "cell_type": "code",
      "execution_count": null,
      "metadata": {
        "colab": {
          "base_uri": "https://localhost:8080/",
          "height": 75
        },
        "id": "hsIiq1l1CX70",
        "outputId": "f1790a69-9f87-41c9-822e-beefaf944ce1"
      },
      "outputs": [
        {
          "output_type": "display_data",
          "data": {
            "text/plain": [
              "<IPython.core.display.HTML object>"
            ],
            "text/html": [
              "\n",
              "     <input type=\"file\" id=\"files-a4f072fb-f397-4ede-8272-d3e4d4a16cc1\" name=\"files[]\" multiple disabled\n",
              "        style=\"border:none\" />\n",
              "     <output id=\"result-a4f072fb-f397-4ede-8272-d3e4d4a16cc1\">\n",
              "      Upload widget is only available when the cell has been executed in the\n",
              "      current browser session. Please rerun this cell to enable.\n",
              "      </output>\n",
              "      <script>// Copyright 2017 Google LLC\n",
              "//\n",
              "// Licensed under the Apache License, Version 2.0 (the \"License\");\n",
              "// you may not use this file except in compliance with the License.\n",
              "// You may obtain a copy of the License at\n",
              "//\n",
              "//      http://www.apache.org/licenses/LICENSE-2.0\n",
              "//\n",
              "// Unless required by applicable law or agreed to in writing, software\n",
              "// distributed under the License is distributed on an \"AS IS\" BASIS,\n",
              "// WITHOUT WARRANTIES OR CONDITIONS OF ANY KIND, either express or implied.\n",
              "// See the License for the specific language governing permissions and\n",
              "// limitations under the License.\n",
              "\n",
              "/**\n",
              " * @fileoverview Helpers for google.colab Python module.\n",
              " */\n",
              "(function(scope) {\n",
              "function span(text, styleAttributes = {}) {\n",
              "  const element = document.createElement('span');\n",
              "  element.textContent = text;\n",
              "  for (const key of Object.keys(styleAttributes)) {\n",
              "    element.style[key] = styleAttributes[key];\n",
              "  }\n",
              "  return element;\n",
              "}\n",
              "\n",
              "// Max number of bytes which will be uploaded at a time.\n",
              "const MAX_PAYLOAD_SIZE = 100 * 1024;\n",
              "\n",
              "function _uploadFiles(inputId, outputId) {\n",
              "  const steps = uploadFilesStep(inputId, outputId);\n",
              "  const outputElement = document.getElementById(outputId);\n",
              "  // Cache steps on the outputElement to make it available for the next call\n",
              "  // to uploadFilesContinue from Python.\n",
              "  outputElement.steps = steps;\n",
              "\n",
              "  return _uploadFilesContinue(outputId);\n",
              "}\n",
              "\n",
              "// This is roughly an async generator (not supported in the browser yet),\n",
              "// where there are multiple asynchronous steps and the Python side is going\n",
              "// to poll for completion of each step.\n",
              "// This uses a Promise to block the python side on completion of each step,\n",
              "// then passes the result of the previous step as the input to the next step.\n",
              "function _uploadFilesContinue(outputId) {\n",
              "  const outputElement = document.getElementById(outputId);\n",
              "  const steps = outputElement.steps;\n",
              "\n",
              "  const next = steps.next(outputElement.lastPromiseValue);\n",
              "  return Promise.resolve(next.value.promise).then((value) => {\n",
              "    // Cache the last promise value to make it available to the next\n",
              "    // step of the generator.\n",
              "    outputElement.lastPromiseValue = value;\n",
              "    return next.value.response;\n",
              "  });\n",
              "}\n",
              "\n",
              "/**\n",
              " * Generator function which is called between each async step of the upload\n",
              " * process.\n",
              " * @param {string} inputId Element ID of the input file picker element.\n",
              " * @param {string} outputId Element ID of the output display.\n",
              " * @return {!Iterable<!Object>} Iterable of next steps.\n",
              " */\n",
              "function* uploadFilesStep(inputId, outputId) {\n",
              "  const inputElement = document.getElementById(inputId);\n",
              "  inputElement.disabled = false;\n",
              "\n",
              "  const outputElement = document.getElementById(outputId);\n",
              "  outputElement.innerHTML = '';\n",
              "\n",
              "  const pickedPromise = new Promise((resolve) => {\n",
              "    inputElement.addEventListener('change', (e) => {\n",
              "      resolve(e.target.files);\n",
              "    });\n",
              "  });\n",
              "\n",
              "  const cancel = document.createElement('button');\n",
              "  inputElement.parentElement.appendChild(cancel);\n",
              "  cancel.textContent = 'Cancel upload';\n",
              "  const cancelPromise = new Promise((resolve) => {\n",
              "    cancel.onclick = () => {\n",
              "      resolve(null);\n",
              "    };\n",
              "  });\n",
              "\n",
              "  // Wait for the user to pick the files.\n",
              "  const files = yield {\n",
              "    promise: Promise.race([pickedPromise, cancelPromise]),\n",
              "    response: {\n",
              "      action: 'starting',\n",
              "    }\n",
              "  };\n",
              "\n",
              "  cancel.remove();\n",
              "\n",
              "  // Disable the input element since further picks are not allowed.\n",
              "  inputElement.disabled = true;\n",
              "\n",
              "  if (!files) {\n",
              "    return {\n",
              "      response: {\n",
              "        action: 'complete',\n",
              "      }\n",
              "    };\n",
              "  }\n",
              "\n",
              "  for (const file of files) {\n",
              "    const li = document.createElement('li');\n",
              "    li.append(span(file.name, {fontWeight: 'bold'}));\n",
              "    li.append(span(\n",
              "        `(${file.type || 'n/a'}) - ${file.size} bytes, ` +\n",
              "        `last modified: ${\n",
              "            file.lastModifiedDate ? file.lastModifiedDate.toLocaleDateString() :\n",
              "                                    'n/a'} - `));\n",
              "    const percent = span('0% done');\n",
              "    li.appendChild(percent);\n",
              "\n",
              "    outputElement.appendChild(li);\n",
              "\n",
              "    const fileDataPromise = new Promise((resolve) => {\n",
              "      const reader = new FileReader();\n",
              "      reader.onload = (e) => {\n",
              "        resolve(e.target.result);\n",
              "      };\n",
              "      reader.readAsArrayBuffer(file);\n",
              "    });\n",
              "    // Wait for the data to be ready.\n",
              "    let fileData = yield {\n",
              "      promise: fileDataPromise,\n",
              "      response: {\n",
              "        action: 'continue',\n",
              "      }\n",
              "    };\n",
              "\n",
              "    // Use a chunked sending to avoid message size limits. See b/62115660.\n",
              "    let position = 0;\n",
              "    do {\n",
              "      const length = Math.min(fileData.byteLength - position, MAX_PAYLOAD_SIZE);\n",
              "      const chunk = new Uint8Array(fileData, position, length);\n",
              "      position += length;\n",
              "\n",
              "      const base64 = btoa(String.fromCharCode.apply(null, chunk));\n",
              "      yield {\n",
              "        response: {\n",
              "          action: 'append',\n",
              "          file: file.name,\n",
              "          data: base64,\n",
              "        },\n",
              "      };\n",
              "\n",
              "      let percentDone = fileData.byteLength === 0 ?\n",
              "          100 :\n",
              "          Math.round((position / fileData.byteLength) * 100);\n",
              "      percent.textContent = `${percentDone}% done`;\n",
              "\n",
              "    } while (position < fileData.byteLength);\n",
              "  }\n",
              "\n",
              "  // All done.\n",
              "  yield {\n",
              "    response: {\n",
              "      action: 'complete',\n",
              "    }\n",
              "  };\n",
              "}\n",
              "\n",
              "scope.google = scope.google || {};\n",
              "scope.google.colab = scope.google.colab || {};\n",
              "scope.google.colab._files = {\n",
              "  _uploadFiles,\n",
              "  _uploadFilesContinue,\n",
              "};\n",
              "})(self);\n",
              "</script> "
            ]
          },
          "metadata": {}
        },
        {
          "output_type": "stream",
          "name": "stdout",
          "text": [
            "Saving wildtype_structure_prediction_af2.pdb to wildtype_structure_prediction_af2.pdb\n"
          ]
        }
      ],
      "source": [
        "from google.colab import files\n",
        "uploaded=files.upload()"
      ]
    },
    {
      "cell_type": "markdown",
      "source": [
        "#load Data\n"
      ],
      "metadata": {
        "id": "chqX8KqNBsdm"
      }
    },
    {
      "cell_type": "code",
      "execution_count": null,
      "metadata": {
        "colab": {
          "base_uri": "https://localhost:8080/"
        },
        "id": "P-o2si5Q6JGj",
        "outputId": "9ec4f3ef-b9ff-4f6a-c91b-627ca25e4a4d"
      },
      "outputs": [
        {
          "output_type": "stream",
          "name": "stdout",
          "text": [
            "Shape of the training dataset (31390, 5)\n",
            "Shape of the testing dataset (2413, 4)\n",
            "Shape of the submission dataset (2413, 2)\n"
          ]
        }
      ],
      "source": [
        "train=pd.read_csv(\"/content/train.csv\")\n",
        "test=pd.read_csv(\"/content/test.csv\")\n",
        "submission=pd.read_csv(\"/content/sample_submission.csv\")\n",
        "print('Shape of the training dataset {}'.format(train.shape))\n",
        "print('Shape of the testing dataset {}'.format(test.shape))\n",
        "print('Shape of the submission dataset {}'.format(submission.shape)) "
      ]
    },
    {
      "cell_type": "markdown",
      "source": [
        "#Exploratory Data Anyalisis"
      ],
      "metadata": {
        "id": "Z6SXSSmPCB0I"
      }
    },
    {
      "cell_type": "code",
      "source": [
        "train.info()"
      ],
      "metadata": {
        "colab": {
          "base_uri": "https://localhost:8080/"
        },
        "id": "OgyZYJzMCJxg",
        "outputId": "d376e3a5-81c5-4d51-dee1-9ae387fd9b27"
      },
      "execution_count": null,
      "outputs": [
        {
          "output_type": "stream",
          "name": "stdout",
          "text": [
            "<class 'pandas.core.frame.DataFrame'>\n",
            "RangeIndex: 31390 entries, 0 to 31389\n",
            "Data columns (total 5 columns):\n",
            " #   Column            Non-Null Count  Dtype  \n",
            "---  ------            --------------  -----  \n",
            " 0   seq_id            31390 non-null  int64  \n",
            " 1   protein_sequence  31390 non-null  object \n",
            " 2   pH                31104 non-null  float64\n",
            " 3   data_source       28043 non-null  object \n",
            " 4   tm                31390 non-null  float64\n",
            "dtypes: float64(2), int64(1), object(2)\n",
            "memory usage: 1.2+ MB\n"
          ]
        }
      ]
    },
    {
      "cell_type": "code",
      "source": [
        "train[\"tm\"].plot(kind='hist',bins=50)"
      ],
      "metadata": {
        "colab": {
          "base_uri": "https://localhost:8080/",
          "height": 283
        },
        "id": "cnwVYdUAReo3",
        "outputId": "9e6ca85c-428d-4575-ac56-84e2af6b6cd8"
      },
      "execution_count": null,
      "outputs": [
        {
          "output_type": "execute_result",
          "data": {
            "text/plain": [
              "<matplotlib.axes._subplots.AxesSubplot at 0x7fb413e04790>"
            ]
          },
          "metadata": {},
          "execution_count": 42
        },
        {
          "output_type": "display_data",
          "data": {
            "text/plain": [
              "<Figure size 432x288 with 1 Axes>"
            ],
            "image/png": "[encoded data removed]"
          },
          "metadata": {
            "needs_background": "light"
          }
        }
      ]
    },
    {
      "cell_type": "code",
      "source": [
        "train[\"pH\"].plot(kind='hist',bins=20)"
      ],
      "metadata": {
        "colab": {
          "base_uri": "https://localhost:8080/",
          "height": 283
        },
        "id": "2uYM1pX8RtIn",
        "outputId": "7ef83e62-dbde-4cfb-9bf9-34434a38f45f"
      },
      "execution_count": null,
      "outputs": [
        {
          "output_type": "execute_result",
          "data": {
            "text/plain": [
              "<matplotlib.axes._subplots.AxesSubplot at 0x7fb413c208d0>"
            ]
          },
          "metadata": {},
          "execution_count": 43
        },
        {
          "output_type": "display_data",
          "data": {
            "text/plain": [
              "<Figure size 432x288 with 1 Axes>"
            ],
            "image/png": "[encoded data removed]"
          },
          "metadata": {
            "needs_background": "light"
          }
        }
      ]
    },
    {
      "cell_type": "code",
      "source": [
        "train.describe()"
      ],
      "metadata": {
        "colab": {
          "base_uri": "https://localhost:8080/",
          "height": 300
        },
        "id": "49_ahzfZCJ1b",
        "outputId": "b8a83dfa-2c2e-4a01-d79d-14c681520173"
      },
      "execution_count": null,
      "outputs": [
        {
          "output_type": "execute_result",
          "data": {
            "text/plain": [
              "             seq_id            pH            tm\n",
              "count  31390.000000  31104.000000  31390.000000\n",
              "mean   15694.500000      6.892339     49.147337\n",
              "std     9061.656811      1.612225     14.010089\n",
              "min        0.000000      1.990000     -1.000000\n",
              "25%     7847.250000      7.000000     42.100000\n",
              "50%    15694.500000      7.000000     48.000000\n",
              "75%    23541.750000      7.000000     53.800000\n",
              "max    31389.000000     64.900000    130.000000"
            ],
            "text/html": [
              "\n",
              "  <div id=\"df-8286a2c8-8f41-429c-8009-6f2643f69fd5\">\n",
              "    <div class=\"colab-df-container\">\n",
              "      <div>\n",
              "<style scoped>\n",
              "    .dataframe tbody tr th:only-of-type {\n",
              "        vertical-align: middle;\n",
              "    }\n",
              "\n",
              "    .dataframe tbody tr th {\n",
              "        vertical-align: top;\n",
              "    }\n",
              "\n",
              "    .dataframe thead th {\n",
              "        text-align: right;\n",
              "    }\n",
              "</style>\n",
              "<table border=\"1\" class=\"dataframe\">\n",
              "  <thead>\n",
              "    <tr style=\"text-align: right;\">\n",
              "      <th></th>\n",
              "      <th>seq_id</th>\n",
              "      <th>pH</th>\n",
              "      <th>tm</th>\n",
              "    </tr>\n",
              "  </thead>\n",
              "  <tbody>\n",
              "    <tr>\n",
              "      <th>count</th>\n",
              "      <td>31390.000000</td>\n",
              "      <td>31104.000000</td>\n",
              "      <td>31390.000000</td>\n",
              "    </tr>\n",
              "    <tr>\n",
              "      <th>mean</th>\n",
              "      <td>15694.500000</td>\n",
              "      <td>6.892339</td>\n",
              "      <td>49.147337</td>\n",
              "    </tr>\n",
              "    <tr>\n",
              "      <th>std</th>\n",
              "      <td>9061.656811</td>\n",
              "      <td>1.612225</td>\n",
              "      <td>14.010089</td>\n",
              "    </tr>\n",
              "    <tr>\n",
              "      <th>min</th>\n",
              "      <td>0.000000</td>\n",
              "      <td>1.990000</td>\n",
              "      <td>-1.000000</td>\n",
              "    </tr>\n",
              "    <tr>\n",
              "      <th>25%</th>\n",
              "      <td>7847.250000</td>\n",
              "      <td>7.000000</td>\n",
              "      <td>42.100000</td>\n",
              "    </tr>\n",
              "    <tr>\n",
              "      <th>50%</th>\n",
              "      <td>15694.500000</td>\n",
              "      <td>7.000000</td>\n",
              "      <td>48.000000</td>\n",
              "    </tr>\n",
              "    <tr>\n",
              "      <th>75%</th>\n",
              "      <td>23541.750000</td>\n",
              "      <td>7.000000</td>\n",
              "      <td>53.800000</td>\n",
              "    </tr>\n",
              "    <tr>\n",
              "      <th>max</th>\n",
              "      <td>31389.000000</td>\n",
              "      <td>64.900000</td>\n",
              "      <td>130.000000</td>\n",
              "    </tr>\n",
              "  </tbody>\n",
              "</table>\n",
              "</div>\n",
              "      <button class=\"colab-df-convert\" onclick=\"convertToInteractive('df-8286a2c8-8f41-429c-8009-6f2643f69fd5')\"\n",
              "              title=\"Convert this dataframe to an interactive table.\"\n",
              "              style=\"display:none;\">\n",
              "        \n",
              "  <svg xmlns=\"http://www.w3.org/2000/svg\" height=\"24px\"viewBox=\"0 0 24 24\"\n",
              "       width=\"24px\">\n",
              "    <path d=\"M0 0h24v24H0V0z\" fill=\"none\"/>\n",
              "    <path d=\"M18.56 5.44l.94 2.06.94-2.06 2.06-.94-2.06-.94-.94-2.06-.94 2.06-2.06.94zm-11 1L8.5 8.5l.94-2.06 2.06-.94-2.06-.94L8.5 2.5l-.94 2.06-2.06.94zm10 10l.94 2.06.94-2.06 2.06-.94-2.06-.94-.94-2.06-.94 2.06-2.06.94z\"/><path d=\"M17.41 7.96l-1.37-1.37c-.4-.4-.92-.59-1.43-.59-.52 0-1.04.2-1.43.59L10.3 9.45l-7.72 7.72c-.78.78-.78 2.05 0 2.83L4 21.41c.39.39.9.59 1.41.59.51 0 1.02-.2 1.41-.59l7.78-7.78 2.81-2.81c.8-.78.8-2.07 0-2.86zM5.41 20L4 18.59l7.72-7.72 1.47 1.35L5.41 20z\"/>\n",
              "  </svg>\n",
              "      </button>\n",
              "      \n",
              "  <style>\n",
              "    .colab-df-container {\n",
              "      display:flex;\n",
              "      flex-wrap:wrap;\n",
              "      gap: 12px;\n",
              "    }\n",
              "\n",
              "    .colab-df-convert {\n",
              "      background-color: #E8F0FE;\n",
              "      border: none;\n",
              "      border-radius: 50%;\n",
              "      cursor: pointer;\n",
              "      display: none;\n",
              "      fill: #1967D2;\n",
              "      height: 32px;\n",
              "      padding: 0 0 0 0;\n",
              "      width: 32px;\n",
              "    }\n",
              "\n",
              "    .colab-df-convert:hover {\n",
              "      background-color: #E2EBFA;\n",
              "      box-shadow: 0px 1px 2px rgba(60, 64, 67, 0.3), 0px 1px 3px 1px rgba(60, 64, 67, 0.15);\n",
              "      fill: #174EA6;\n",
              "    }\n",
              "\n",
              "    [theme=dark] .colab-df-convert {\n",
              "      background-color: #3B4455;\n",
              "      fill: #D2E3FC;\n",
              "    }\n",
              "\n",
              "    [theme=dark] .colab-df-convert:hover {\n",
              "      background-color: #434B5C;\n",
              "      box-shadow: 0px 1px 3px 1px rgba(0, 0, 0, 0.15);\n",
              "      filter: drop-shadow(0px 1px 2px rgba(0, 0, 0, 0.3));\n",
              "      fill: #FFFFFF;\n",
              "    }\n",
              "  </style>\n",
              "\n",
              "      <script>\n",
              "        const buttonEl =\n",
              "          document.querySelector('#df-8286a2c8-8f41-429c-8009-6f2643f69fd5 button.colab-df-convert');\n",
              "        buttonEl.style.display =\n",
              "          google.colab.kernel.accessAllowed ? 'block' : 'none';\n",
              "\n",
              "        async function convertToInteractive(key) {\n",
              "          const element = document.querySelector('#df-8286a2c8-8f41-429c-8009-6f2643f69fd5');\n",
              "          const dataTable =\n",
              "            await google.colab.kernel.invokeFunction('convertToInteractive',\n",
              "                                                     [key], {});\n",
              "          if (!dataTable) return;\n",
              "\n",
              "          const docLinkHtml = 'Like what you see? Visit the ' +\n",
              "            '<a target=\"_blank\" href=https://colab.research.google.com/notebooks/data_table.ipynb>data table notebook</a>'\n",
              "            + ' to learn more about interactive tables.';\n",
              "          element.innerHTML = '';\n",
              "          dataTable['output_type'] = 'display_data';\n",
              "          await google.colab.output.renderOutput(dataTable, element);\n",
              "          const docLink = document.createElement('div');\n",
              "          docLink.innerHTML = docLinkHtml;\n",
              "          element.appendChild(docLink);\n",
              "        }\n",
              "      </script>\n",
              "    </div>\n",
              "  </div>\n",
              "  "
            ]
          },
          "metadata": {},
          "execution_count": 10
        }
      ]
    },
    {
      "cell_type": "code",
      "source": [
        "numerical = ['pH', 'tm']\n",
        "%matplotlib inline\n",
        "import matplotlib.pyplot as plt\n",
        "\n",
        "for col in numerical:\n",
        "    if pd.api.types.is_numeric_dtype(train[col]) == True:\n",
        "        train[col].plot.hist(bins=50, grid=True, legend=None)\n",
        "        plt.title(col)\n",
        "        plt.show()"
      ],
      "metadata": {
        "colab": {
          "base_uri": "https://localhost:8080/",
          "height": 545
        },
        "id": "KIU4KwdXCP1q",
        "outputId": "5519c6b9-4a8b-4d46-ae15-343c21852475"
      },
      "execution_count": null,
      "outputs": [
        {
          "output_type": "display_data",
          "data": {
            "text/plain": [
              "<Figure size 432x288 with 1 Axes>"
            ],
            "image/png": "[encoded data removed]"
          },
          "metadata": {
            "needs_background": "light"
          }
        },
        {
          "output_type": "display_data",
          "data": {
            "text/plain": [
              "<Figure size 432x288 with 1 Axes>"
            ],
            "image/png": "[encoded data removed]"
          },
          "metadata": {
            "needs_background": "light"
          }
        }
      ]
    },
    {
      "cell_type": "markdown",
      "source": [
        "Observation: The pH data is skewed to the right. We will remove the outlier (e.g. top X% quantile) and analyze the distribution again."
      ],
      "metadata": {
        "id": "gQ0KSi4TCehK"
      }
    },
    {
      "cell_type": "code",
      "source": [
        "pH = train.pH\n",
        "print('Shape of the pH temp dataset {}'.format(pH.shape))\n"
      ],
      "metadata": {
        "colab": {
          "base_uri": "https://localhost:8080/"
        },
        "id": "18_nSIQjCP5V",
        "outputId": "1bbd1cc1-7e2a-4a0b-c761-bf96462664f3"
      },
      "execution_count": null,
      "outputs": [
        {
          "output_type": "stream",
          "name": "stdout",
          "text": [
            "Shape of the pH temp dataset (31390,)\n"
          ]
        }
      ]
    },
    {
      "cell_type": "markdown",
      "source": [
        "#Remove Outliers By Percentile Analysis"
      ],
      "metadata": {
        "id": "R6YPTAhNCzU_"
      }
    },
    {
      "cell_type": "code",
      "source": [
        "# Get the X% percentile of the pH to remove outlier and plot the distribution again \n",
        "pH_01 = pH.quantile(0.01)\n",
        "pH_05 = pH.quantile(0.05)\n",
        "pH_95 = pH.quantile(0.95)\n",
        "pH_99 = pH.quantile(0.99)\n",
        "print('p01 = {}, p05 = {}'.format(pH_01, pH_05))\n",
        "print('p95 = {}, p99 = {}'.format(pH_95, pH_99))\n"
      ],
      "metadata": {
        "colab": {
          "base_uri": "https://localhost:8080/"
        },
        "id": "VTvy3jGkCP8P",
        "outputId": "fa7117e5-9a75-484d-b41e-942469d71a3f"
      },
      "execution_count": null,
      "outputs": [
        {
          "output_type": "stream",
          "name": "stdout",
          "text": [
            "p01 = 2.7, p05 = 5.4\n",
            "p95 = 7.5, p99 = 8.2\n"
          ]
        }
      ]
    },
    {
      "cell_type": "code",
      "source": [
        "train[(train['pH']<pH_95) & (train['pH']>pH_05)]['pH'].plot.hist(bins=50, grid=True, legend=None)\n",
        "plt.title('pH')\n",
        "plt.show()"
      ],
      "metadata": {
        "colab": {
          "base_uri": "https://localhost:8080/",
          "height": 281
        },
        "id": "kIjmug3YCQBu",
        "outputId": "4dd16043-44e6-43d0-e6e3-9d1728ed9baa"
      },
      "execution_count": null,
      "outputs": [
        {
          "output_type": "display_data",
          "data": {
            "text/plain": [
              "<Figure size 432x288 with 1 Axes>"
            ],
            "image/png": "[encoded data removed]"
          },
          "metadata": {
            "needs_background": "light"
          }
        }
      ]
    },
    {
      "cell_type": "markdown",
      "source": [
        "Observation: after setting the cap and floor for pH feature, we can see that most pH values are closed to 7\n"
      ],
      "metadata": {
        "id": "MuS6DGJcDQId"
      }
    },
    {
      "cell_type": "code",
      "source": [
        "train['data_source'].value_counts()\n"
      ],
      "metadata": {
        "colab": {
          "base_uri": "https://localhost:8080/"
        },
        "id": "J2CY2QwJCQFd",
        "outputId": "a65871e2-75f5-4880-a2ef-1e64ae604a27"
      },
      "execution_count": null,
      "outputs": [
        {
          "output_type": "execute_result",
          "data": {
            "text/plain": [
              "doi.org/10.1038/s41592-020-0801-4    24525\n",
              "10.1021/acscatal.9b05223               211\n",
              "10.1016/j.bpc.2006.10.014              185\n",
              "10.7554/eLife.54639                    151\n",
              "10.1007/s00253-018-8872-1               84\n",
              "                                     ...  \n",
              "10.1074/jbc.M001132200                   1\n",
              "10.1021/bi9530090                        1\n",
              "10.1016/j.ijbiomac.2008.12.016           1\n",
              "10.1016/j.jmb.2004.02.073                1\n",
              "10.1021/bi00219a037                      1\n",
              "Name: data_source, Length: 324, dtype: int64"
            ]
          },
          "metadata": {},
          "execution_count": 17
        }
      ]
    },
    {
      "cell_type": "markdown",
      "source": [
        "Observation: data_source has no irrelevant to the target label.\n"
      ],
      "metadata": {
        "id": "ScpZ5wzCDgY8"
      }
    },
    {
      "cell_type": "markdown",
      "source": [
        "#Feature engineering\n"
      ],
      "metadata": {
        "id": "qOHVA0rpDk3e"
      }
    },
    {
      "cell_type": "code",
      "source": [
        "# Now, we analyze if 1-letter sequence code is representative. E.g. we know that  L, A, V and G are popular sequence code \n",
        "Protein_Seq = ['A', 'B', 'C', 'D', 'E', 'F', 'G', 'H', 'I', 'J', 'K', 'L', 'M', 'N', 'O', 'P', 'Q', 'R', 'S', 'T', 'U', 'V', 'W', 'X', 'Y', 'Z']\n",
        "Null_Seq = []\n",
        "\n",
        "for col in Protein_Seq:\n",
        "    if train['protein_sequence'].str.contains(col).sum() == 0 :\n",
        "        print('{}: {}'.format(col, train['protein_sequence'].str.contains(col).sum()))\n",
        "        Null_Seq.append(col)\n",
        "        \n",
        "print('Sequence with no occurence : {}'.format(Null_Seq))    \n"
      ],
      "metadata": {
        "colab": {
          "base_uri": "https://localhost:8080/"
        },
        "id": "-HQN71NzCQIO",
        "outputId": "6ea5cd40-dbe5-4248-a57a-8b535fd939bf"
      },
      "execution_count": null,
      "outputs": [
        {
          "output_type": "stream",
          "name": "stdout",
          "text": [
            "B: 0\n",
            "J: 0\n",
            "O: 0\n",
            "U: 0\n",
            "X: 0\n",
            "Z: 0\n",
            "Sequence with no occurence : ['B', 'J', 'O', 'U', 'X', 'Z']\n"
          ]
        }
      ]
    },
    {
      "cell_type": "markdown",
      "source": [
        "Observation: Code sequence of B, J, O, U, X and Z are not representative.\n"
      ],
      "metadata": {
        "id": "Fmq2yN4KD98k"
      }
    },
    {
      "cell_type": "code",
      "source": [
        "# We only include non-zero 1-letter sequence code in the feature extraction\n",
        "Letter_1_Seq = []\n",
        "\n",
        "for i in Protein_Seq:\n",
        "    if i not in Null_Seq:\n",
        "        Letter_1_Seq.append(i)\n",
        "\n",
        "print('1-letter Protein Sequence : {}'.format(Letter_1_Seq))\n",
        "\n",
        "print('Size of training and testing dataset before extracting 1-letter sequence: {} and {}'.format(train.shape, test.shape))\n",
        "\n",
        "for col in Letter_1_Seq:\n",
        "#     print('{}: {}'.format(col, df_train['protein_sequence'].str.contains(col).sum()))\n",
        "    train[col] = train['protein_sequence'].str.count(col)\n",
        "    test[col] = test['protein_sequence'].str.count(col)\n",
        "    \n",
        "print('Size of training and testing dataset after extracting 1-letter sequence: {} and {}'.format(train.shape, test.shape))\n"
      ],
      "metadata": {
        "colab": {
          "base_uri": "https://localhost:8080/"
        },
        "id": "2dzVy4XACQK4",
        "outputId": "d4b8a267-acaf-47f3-c580-597dad2d3373"
      },
      "execution_count": null,
      "outputs": [
        {
          "output_type": "stream",
          "name": "stdout",
          "text": [
            "1-letter Protein Sequence : ['A', 'C', 'D', 'E', 'F', 'G', 'H', 'I', 'K', 'L', 'M', 'N', 'P', 'Q', 'R', 'S', 'T', 'V', 'W', 'Y']\n",
            "Size of training and testing dataset before extracting 1-letter sequence: (31390, 25) and (2413, 24)\n",
            "Size of training and testing dataset after extracting 1-letter sequence: (31390, 25) and (2413, 24)\n"
          ]
        }
      ]
    },
    {
      "cell_type": "code",
      "source": [
        "Letter_Set = Letter_1_Seq"
      ],
      "metadata": {
        "id": "mjAJEUDTESng"
      },
      "execution_count": null,
      "outputs": []
    },
    {
      "cell_type": "markdown",
      "source": [
        "Standardization for numerical labels\n"
      ],
      "metadata": {
        "id": "flgM-lIFEayP"
      }
    },
    {
      "cell_type": "code",
      "source": [
        "standardScaler = StandardScaler()\n",
        "encoder_num = standardScaler.fit_transform(train[Letter_Set])\n",
        "encoded_num = pd.DataFrame(encoder_num, columns =Letter_Set)\n",
        "print(encoded_num.shape)\n",
        "print(encoded_num.head(5))"
      ],
      "metadata": {
        "colab": {
          "base_uri": "https://localhost:8080/"
        },
        "id": "x28w9-z_ESw0",
        "outputId": "f5843c4c-552f-4160-a2e1-bde5e7132214"
      },
      "execution_count": null,
      "outputs": [
        {
          "output_type": "stream",
          "name": "stdout",
          "text": [
            "(31390, 20)\n",
            "          A         C         D         E         F         G         H  \\\n",
            "0  0.244496 -0.439194 -0.336847 -0.045082 -0.179808  0.198720 -0.540171   \n",
            "1 -0.143868 -0.517543 -0.421907  0.336342 -0.531209 -0.294110 -0.463664   \n",
            "2  0.358721  0.187599  0.060101 -0.010407  0.221794  0.864041  0.071886   \n",
            "3 -0.326628 -0.125798 -0.166726 -0.062420 -0.230008 -0.343393 -0.234143   \n",
            "4  1.181140  0.579344  1.506126  0.787116  0.773996  1.332230  2.290593   \n",
            "\n",
            "          I         K         L         M         N         P         Q  \\\n",
            "0 -0.266988 -0.243011 -0.095033 -0.206285 -0.550394 -0.100751 -0.467290   \n",
            "1 -0.294322 -0.183255 -0.362918 -0.743014 -0.510646 -0.323040  0.089106   \n",
            "2 -0.212321  0.215114 -0.458592 -0.385195 -0.152912 -0.056293  0.193430   \n",
            "3 -0.376323 -0.223092 -0.267245 -0.743014 -0.391401 -0.145209 -0.362966   \n",
            "4  1.291032  0.792749  1.186989  1.851177  1.834498  2.344428  1.201898   \n",
            "\n",
            "          R         S         T         V         W         Y  \n",
            "0  0.037342 -0.420282 -0.231613  0.146112 -0.115385 -0.553081  \n",
            "1  0.187630 -0.360742 -0.277131 -0.306211 -0.227889 -0.553081  \n",
            "2  0.217688  0.016343  0.132535  0.014185 -0.227889  0.147259  \n",
            "3 -0.413524 -0.321049 -0.117817 -0.287365 -0.227889 -0.499209  \n",
            "4  1.179535  2.298700  2.180866  1.785786  1.234657  1.817301  \n"
          ]
        }
      ]
    },
    {
      "cell_type": "markdown",
      "source": [
        "#Model - XGBooster\n"
      ],
      "metadata": {
        "id": "8pECQ329Em8U"
      }
    },
    {
      "cell_type": "code",
      "source": [
        "from sklearn.model_selection import train_test_split\n",
        "import xgboost"
      ],
      "metadata": {
        "id": "M5aaZcZSE3EB"
      },
      "execution_count": null,
      "outputs": []
    },
    {
      "cell_type": "code",
      "source": [
        "\n",
        "X = encoded_num.copy()\n",
        "y = train['tm']\n"
      ],
      "metadata": {
        "id": "j2cvCW1ZES0E"
      },
      "execution_count": null,
      "outputs": []
    },
    {
      "cell_type": "code",
      "source": [
        "X_train, X_test, y_train, y_test = train_test_split(X, y, test_size=0.3, random_state=42)"
      ],
      "metadata": {
        "id": "V9yXKQk1ES8G"
      },
      "execution_count": null,
      "outputs": []
    },
    {
      "cell_type": "markdown",
      "source": [
        "Hyperparameter for XGBoost"
      ],
      "metadata": {
        "id": "yovwCDsqFH7Z"
      }
    },
    {
      "cell_type": "code",
      "source": [
        "#XGBoost hyper-parameter tuning\n",
        "def hyperParameterTuning(X_train, y_train):\n",
        "    param_tuning = {\n",
        "        'learning_rate': [0.01, 0.1],\n",
        "        'max_depth': [10, 15, 20, 25],\n",
        "        'min_child_weight': [5, 10, 20, 30],\n",
        "        'subsample': [0.3, 0.5, 0.7],\n",
        "        'colsample_bytree': [0.3, 0.5, 0.7],\n",
        "        'n_estimators' : [500], # , 500, 750, 1000\n",
        "        'objective': ['reg:squarederror']\n",
        "    }\n",
        "\n",
        "    xgb_model = xgboost.XGBRegressor()\n",
        "\n",
        "    gsearch = RandomizedSearchCV(estimator = xgb_model,\n",
        "                           param_distributions = param_tuning,                        \n",
        "                           cv = 3,\n",
        "                           n_iter=35, \n",
        "                           n_jobs = -1,\n",
        "                           verbose = 1)\n",
        "\n",
        "    gsearch.fit(X_train,y_train)\n",
        "\n",
        "    return gsearch.best_params_"
      ],
      "metadata": {
        "id": "cnrenQc-ETAd"
      },
      "execution_count": null,
      "outputs": []
    },
    {
      "cell_type": "code",
      "source": [
        "#Run only in the first run of the kernel.\n",
        "#best_model = hyperParameterTuning(X_train, y_train)"
      ],
      "metadata": {
        "colab": {
          "base_uri": "https://localhost:8080/"
        },
        "id": "K1L5VQfVETEW",
        "outputId": "1a978ac0-4ff6-4c2a-8c2f-995aff1fde27"
      },
      "execution_count": null,
      "outputs": [
        {
          "metadata": {
            "tags": null
          },
          "name": "stdout",
          "output_type": "stream",
          "text": [
            "Fitting 3 folds for each of 35 candidates, totalling 105 fits\n"
          ]
        }
      ]
    },
    {
      "cell_type": "code",
      "source": [
        "#print(best_model)"
      ],
      "metadata": {
        "colab": {
          "base_uri": "https://localhost:8080/"
        },
        "id": "m1NWmsfuETIH",
        "outputId": "8d40c583-2198-48fc-a6ba-0ace9f821c95"
      },
      "execution_count": null,
      "outputs": [
        {
          "output_type": "stream",
          "name": "stdout",
          "text": [
            "{'subsample': 0.7, 'objective': 'reg:squarederror', 'n_estimators': 500, 'min_child_weight': 10, 'max_depth': 25, 'learning_rate': 0.01, 'colsample_bytree': 0.7}\n"
          ]
        }
      ]
    },
    {
      "cell_type": "code",
      "source": [
        "import xgboost as xgb\n",
        "from xgboost import XGBRegressor"
      ],
      "metadata": {
        "id": "0zzsL9ZdOnZE"
      },
      "execution_count": null,
      "outputs": []
    },
    {
      "cell_type": "code",
      "source": [
        "#xgb_model_best = xgboost.XGBRegressor(**best_model)\n",
        "#%time model_xbg.fit(X_train, y_train,early_stopping_rounds=5000, verbose=250)"
      ],
      "metadata": {
        "id": "AYmZpwCrN3sm"
      },
      "execution_count": null,
      "outputs": []
    },
    {
      "cell_type": "code",
      "source": [
        "# best fit\n",
        "model_XGBoost = xgboost.XGBRegressor(n_estimators=500, max_depth=10, learning_rate= 0.001)\n",
        "# model = xgboost.XGBRegressor()\n",
        "\n",
        "model_XGBoost.fit(X_train, y_train)\n",
        "\n",
        "print('Model model_XGBoost Training is done!')"
      ],
      "metadata": {
        "colab": {
          "base_uri": "https://localhost:8080/"
        },
        "id": "z-yWO6gzP8Mf",
        "outputId": "3da4d441-c7d1-4212-decd-0316df60e283"
      },
      "execution_count": null,
      "outputs": [
        {
          "output_type": "stream",
          "name": "stdout",
          "text": [
            "[04:43:04] WARNING: /workspace/src/objective/regression_obj.cu:152: reg:linear is now deprecated in favor of reg:squarederror.\n",
            "Model model_XGBoost Training is done!\n"
          ]
        }
      ]
    },
    {
      "cell_type": "code",
      "source": [
        "y_pred_xgb = model_XGBoost.predict(X_test)"
      ],
      "metadata": {
        "id": "g7Rrc0ijN3wA"
      },
      "execution_count": null,
      "outputs": []
    },
    {
      "cell_type": "markdown",
      "source": [
        "#Spearman's rank correlation coefficient"
      ],
      "metadata": {
        "id": "IEybBvJ4Qng2"
      }
    },
    {
      "cell_type": "code",
      "source": [
        "from scipy import stats\n",
        "\n",
        "print(stats.spearmanr(y_test, y_pred_xgb))\n",
        "\n",
        "mae_xgb = mean_absolute_error(y_test, y_pred_xgb)\n",
        "print(\"MAE: \", mae_xgb)\n"
      ],
      "metadata": {
        "colab": {
          "base_uri": "https://localhost:8080/"
        },
        "id": "O9kyJm9rN30M",
        "outputId": "e4cb015d-8d73-4646-c605-a9abc66d7796"
      },
      "execution_count": null,
      "outputs": [
        {
          "output_type": "stream",
          "name": "stdout",
          "text": [
            "SpearmanrResult(correlation=0.47687532886373235, pvalue=0.0)\n",
            "MAE:  29.76937367159862\n"
          ]
        }
      ]
    },
    {
      "cell_type": "markdown",
      "source": [
        "#Prediction"
      ],
      "metadata": {
        "id": "QGidCf5gQ3ku"
      }
    },
    {
      "cell_type": "code",
      "source": [
        "submission = pd.DataFrame()\n",
        "\n",
        "submission['seq_id'] = test['seq_id']\n",
        "\n",
        "encoded_num = standardScaler.transform(test[Letter_Set])\n",
        "\n",
        "df_pred = pd.DataFrame(encoded_num, columns =Letter_Set)\n",
        "\n",
        "submission['tm'] = model_XGBoost.predict(df_pred)\n",
        "\n",
        "print(submission.head(10))\n",
        "\n",
        "submission.to_csv(\"submission.csv\", index=False)\n",
        "print('Submission Done')\n"
      ],
      "metadata": {
        "colab": {
          "base_uri": "https://localhost:8080/"
        },
        "id": "YPxSUlLlQ2cD",
        "outputId": "39fd277b-2627-4999-e889-4371663033c6"
      },
      "execution_count": null,
      "outputs": [
        {
          "output_type": "stream",
          "name": "stdout",
          "text": [
            "   seq_id         tm\n",
            "0   31390  19.464001\n",
            "1   31391  19.464001\n",
            "2   31392  19.464001\n",
            "3   31393  19.584177\n",
            "4   31394  19.584177\n",
            "5   31395  19.584177\n",
            "6   31396  19.584177\n",
            "7   31397  19.584177\n",
            "8   31398  19.464001\n",
            "9   31399  19.464001\n",
            "Submission Done\n"
          ]
        }
      ]
    }
  ],
  "metadata": {
    "colab": {
      "provenance": [],
      "mount_file_id": "15jlCb96IUfTrpoh7UTEP-AE7rDymtal7",
      "authorship_tag": "ABX9TyO6vF4XdIy0tV+v2tUfIv3H",
      "include_colab_link": true
    },
    "kernelspec": {
      "display_name": "Python 3",
      "name": "python3"
    },
    "language_info": {
      "name": "python"
    }
  },
  "nbformat": 4,
  "nbformat_minor": 0
}